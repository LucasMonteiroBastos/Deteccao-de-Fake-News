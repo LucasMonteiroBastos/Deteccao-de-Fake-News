{
 "cells": [
  {
   "cell_type": "code",
   "execution_count": 5,
   "id": "684872d3",
   "metadata": {},
   "outputs": [],
   "source": [
    "dicio = {}\n",
    "\n",
    "def incluirNovoNome(nome, numeros):\n",
    "    dicio[nome] = numeros\n",
    "\n",
    "def incluirTelefone(nome, numero):\n",
    "    if nome in dicio:\n",
    "        dicio[nome].append(numero)\n",
    "    else:\n",
    "        incluirNovoNome(nome, [numero])\n",
    "        \n",
    "def excluirNome(nome):\n",
    "    if nome in dicio:\n",
    "        del dicio[nome]\n",
    "        \n",
    "def excluirTelefone(nome, telefone):\n",
    "    if nome in dicio:\n",
    "        if telefone in dicio[nome]:\n",
    "            dicio[nome].remove(telefone)\n",
    "    if dicio[nome] == []:\n",
    "        excluirNome(nome)\n",
    "        \n",
    "def consultarTelefone(nome):\n",
    "    if nome in dicio:\n",
    "        return dicio[nome]\n",
    "    "
   ]
  },
  {
   "cell_type": "code",
   "execution_count": null,
   "id": "fa082ad1",
   "metadata": {},
   "outputs": [],
   "source": []
  }
 ],
 "metadata": {
  "kernelspec": {
   "display_name": "Python 3",
   "language": "python",
   "name": "python3"
  },
  "language_info": {
   "codemirror_mode": {
    "name": "ipython",
    "version": 3
   },
   "file_extension": ".py",
   "mimetype": "text/x-python",
   "name": "python",
   "nbconvert_exporter": "python",
   "pygments_lexer": "ipython3",
   "version": "3.8.8"
  }
 },
 "nbformat": 4,
 "nbformat_minor": 5
}
